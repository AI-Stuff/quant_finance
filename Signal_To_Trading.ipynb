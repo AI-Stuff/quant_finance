{
 "cells": [
  {
   "cell_type": "code",
   "execution_count": 11,
   "metadata": {},
   "outputs": [],
   "source": [
    "%matplotlib inline\n",
    "import pandas as pd\n",
    "import matplotlib.pyplot as plt\n",
    "import numpy as np\n",
    "import seaborn as sns\n",
    "import quandl\n",
    "import math\n",
    "from datetime import datetime\n",
    "token=\"Us3wFmXGgAj_1cUtHAAR\""
   ]
  },
  {
   "cell_type": "code",
   "execution_count": 3,
   "metadata": {},
   "outputs": [],
   "source": [
    "import pylab\n",
    "sns.set(font_scale=3)\n",
    "pylab.rcParams['figure.figsize'] = (24, 18)"
   ]
  },
  {
   "cell_type": "markdown",
   "metadata": {},
   "source": [
    "# Load Data from quandl\n",
    "\n",
    "* Select a few different contracts\n",
    "* Need to get contract sizes (or do we?)"
   ]
  },
  {
   "cell_type": "code",
   "execution_count": null,
   "metadata": {},
   "outputs": [],
   "source": [
    "df=pd.DataFrame()\n",
    "df['SP500']=quandl.get(\"CHRIS/CME_SP1\", authtoken=token).Settle\n",
    "df['Copper']=quandl.get(\"CHRIS/CME_HG1\", authtoken=token).Settle\n",
    "df['Gold']=quandl.get(\"CHRIS/CME_GC1\", authtoken=token).Settle"
   ]
  },
  {
   "cell_type": "code",
   "execution_count": null,
   "metadata": {},
   "outputs": [],
   "source": []
  },
  {
   "cell_type": "markdown",
   "metadata": {},
   "source": [
    "# Signal\n",
    "\n",
    "Moskowitz et al (2013): http://docs.lhpedersen.com/TimeSeriesMomentum.pdf\n",
    "\n",
    "But we also need to scale each position.  As per the paper this is done by in volatility.\n",
    "\n",
    "$$ signal = \\frac{sign[r_{t-12,t}^s]}{\\sigma_t^s} $$\n"
   ]
  },
  {
   "cell_type": "code",
   "execution_count": 4,
   "metadata": {},
   "outputs": [],
   "source": [
    "def tsmom_daily(data,signal_lookback,vol_lookback=20):\n",
    "\tmul=get_contract_multipliers()[data.columns]\n",
    "\tvol=pd.ewmstd(data,vol_lookback,min_periods=vol_lookback)*math.sqrt(256)\n",
    "\tsignal=pd.rolling_mean(data,signal_lookback)\n",
    "\tsignal = signal /abs(signal)\n",
    "\tposition=(signal / (vol *mul))\n",
    "\treturn position.shift(1)"
   ]
  },
  {
   "cell_type": "code",
   "execution_count": 5,
   "metadata": {},
   "outputs": [],
   "source": [
    "def calc_pnl_wc(position,data,fee=0.0005):\n",
    "\tmul=get_contract_multipliers()[data.columns]\n",
    "\treturn position*data*mul-cost_model(position,fee)"
   ]
  },
  {
   "cell_type": "markdown",
   "metadata": {},
   "source": [
    "# Scaling factor\n",
    "\n",
    "Need to scale the portfolio to hit expected volatility.\n",
    "\n",
    "$$ ScalingFactor = \\frac{Target}{Expected[vol]}$$\n",
    "\n",
    "Hard part, how do you estimate expected vol.  \n",
    "\n",
    "$$ RealizedVol = w' \\Sigma w $$"
   ]
  },
  {
   "cell_type": "code",
   "execution_count": 6,
   "metadata": {},
   "outputs": [],
   "source": [
    "# Has a bit of hindsight bias involved since it uses entire time for Covariance matrixd\n",
    "def calc_scaling_factor(pnl,vol_target=0.2):\n",
    "    Sigma_all=pnl.cov().dropna(how='all',axis=1).dropna(how='all')\n",
    "    ind=pnl.dropna(how='all').index\n",
    "    SF=[]\n",
    "    for row in pnl.dropna(how='all').iterrows():\n",
    "        no_mkts=row[1].dropna().count()\n",
    "        w=np.array([1/float(no_mkts)]*no_mkts)\n",
    "        mkt_list=row[1].dropna().index\n",
    "        Sig = Sigma_all[mkt_list].T[mkt_list]\n",
    "        vol_ach=np.sqrt(np.dot(np.dot(w.T,Sig.as_matrix()),w))*16\n",
    "        SF.append(vol_target/vol_ach)\n",
    "    return pd.Series(SF,index=ind)"
   ]
  },
  {
   "cell_type": "markdown",
   "metadata": {},
   "source": [
    "# Calculate Portfolio PNL \n",
    "\n",
    "$$ PNL_{Portfolio} = \\sum_i^n \\frac{1}{N}  PNL_i * ScalingFactor $$"
   ]
  },
  {
   "cell_type": "code",
   "execution_count": null,
   "metadata": {},
   "outputs": [],
   "source": [
    "#remove_inf(pnl).mean(axis=1).dropna()*scaling_factor"
   ]
  }
 ],
 "metadata": {
  "kernelspec": {
   "display_name": "Python 2",
   "language": "python",
   "name": "python2"
  },
  "language_info": {
   "codemirror_mode": {
    "name": "ipython",
    "version": 2
   },
   "file_extension": ".py",
   "mimetype": "text/x-python",
   "name": "python",
   "nbconvert_exporter": "python",
   "pygments_lexer": "ipython2",
   "version": "2.7.12"
  }
 },
 "nbformat": 4,
 "nbformat_minor": 2
}
