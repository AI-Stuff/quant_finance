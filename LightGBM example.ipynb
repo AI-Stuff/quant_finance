{
 "cells": [
  {
   "cell_type": "code",
   "execution_count": 348,
   "metadata": {},
   "outputs": [],
   "source": [
    "%matplotlib inline\n",
    "import lightgbm as lgb\n",
    "import numpy as np\n",
    "import pandas as pd\n",
    "from sklearn.model_selection import train_test_split\n",
    "from sklearn.preprocessing import StandardScaler\n",
    "from sklearn.metrics import confusion_matrix\n",
    "from sklearn.metrics import accuracy_score\n",
    "from math import sqrt\n",
    "import seaborn as sns\n",
    "from core import *\n",
    "import quandl\n",
    "token='QWe8iSbyAFzRuod2aroM'"
   ]
  },
  {
   "cell_type": "code",
   "execution_count": 80,
   "metadata": {},
   "outputs": [],
   "source": [
    "sp = get_sp()\n",
    "rets=sp.pct_change()\n",
    "df=pd.DataFrame()\n",
    "df['X1']=rets\n",
    "df['X2']=get_bond_time_series()\n",
    "df['Y']=rets.shift(1)\n",
    "df['Ybar']=df.Y/df.Y.abs()\n",
    "df=df.dropna()"
   ]
  },
  {
   "cell_type": "code",
   "execution_count": 103,
   "metadata": {},
   "outputs": [],
   "source": [
    "s=[]\n",
    "for i in df.Y:\n",
    "    s.append(1 if i>0 else 0)\n",
    "df['Y2']=pd.Series(s,index=df.index)"
   ]
  },
  {
   "cell_type": "code",
   "execution_count": 269,
   "metadata": {},
   "outputs": [],
   "source": [
    "x=df[['X1','X2']].values\n",
    "y=df.Y.values"
   ]
  },
  {
   "cell_type": "code",
   "execution_count": 281,
   "metadata": {},
   "outputs": [],
   "source": [
    "x_train, x_test, y_train, y_test = train_test_split(x, y, test_size = 0.2,random_state=0)"
   ]
  },
  {
   "cell_type": "code",
   "execution_count": 278,
   "metadata": {},
   "outputs": [],
   "source": [
    "y_train_flat= flatten(y_train)\n",
    "y_test_flat = flatten(y_test)"
   ]
  },
  {
   "cell_type": "code",
   "execution_count": 279,
   "metadata": {},
   "outputs": [],
   "source": [
    "sc = StandardScaler()\n",
    "x_train = sc.fit_transform(x_train)\n",
    "x_test = sc.transform(x_test)"
   ]
  },
  {
   "cell_type": "code",
   "execution_count": 295,
   "metadata": {},
   "outputs": [],
   "source": [
    "d_train = lgb.Dataset(x_train, label=y_train_flat)\n",
    "params = {}\n",
    "params['learning_rate'] = 0.003\n",
    "params['boosting_type'] = 'gbdt'\n",
    "params['objective'] = 'binary'\n",
    "params['metric'] = 'binary_logloss'\n",
    "params['sub_feature'] = 0.5\n",
    "params['num_leaves'] = 20\n",
    "params['min_data'] = 50\n",
    "params['max_depth'] = 20\n",
    "clf = lgb.train(params, d_train, 100)"
   ]
  },
  {
   "cell_type": "code",
   "execution_count": 296,
   "metadata": {},
   "outputs": [],
   "source": [
    "y_pred=clf.predict(x_test)"
   ]
  },
  {
   "cell_type": "code",
   "execution_count": 297,
   "metadata": {},
   "outputs": [
    {
     "data": {
      "text/plain": [
       "<matplotlib.axes._subplots.AxesSubplot at 0x125338eb8>"
      ]
     },
     "execution_count": 297,
     "metadata": {},
     "output_type": "execute_result"
    },
    {
     "data": {
      "image/png": "[encoded data removed]",
      "text/plain": [
       "<Figure size 432x288 with 1 Axes>"
      ]
     },
     "metadata": {
      "needs_background": "light"
     },
     "output_type": "display_data"
    }
   ],
   "source": [
    "pd.Series(y_pred).plot(kind='hist')"
   ]
  },
  {
   "cell_type": "code",
   "execution_count": 298,
   "metadata": {},
   "outputs": [],
   "source": [
    "y_pred_bar=[]\n",
    "for i in range(0,y_pred.size):\n",
    "    if y_pred[i]>=.6:       # setting threshold to .5\n",
    "       y_pred_bar.append(1)\n",
    "    else:  \n",
    "       y_pred_bar.append(0)\n",
    "y_pred_bar=np.array(y_pred_bar)"
   ]
  },
  {
   "cell_type": "code",
   "execution_count": 300,
   "metadata": {},
   "outputs": [],
   "source": [
    "accuracy=accuracy_score(y_pred_bar,y_test_flat)\n",
    "cm = confusion_matrix(y_test_flat, y_pred_bar)"
   ]
  },
  {
   "cell_type": "code",
   "execution_count": 301,
   "metadata": {},
   "outputs": [
    {
     "data": {
      "text/plain": [
       "array([[26, 24],\n",
       "       [30, 59]])"
      ]
     },
     "execution_count": 301,
     "metadata": {},
     "output_type": "execute_result"
    }
   ],
   "source": [
    "cm"
   ]
  },
  {
   "cell_type": "code",
   "execution_count": 302,
   "metadata": {},
   "outputs": [
    {
     "data": {
      "text/plain": [
       "0.6115107913669064"
      ]
     },
     "execution_count": 302,
     "metadata": {},
     "output_type": "execute_result"
    }
   ],
   "source": [
    "accuracy"
   ]
  },
  {
   "cell_type": "code",
   "execution_count": 324,
   "metadata": {},
   "outputs": [
    {
     "data": {
      "text/plain": [
       "1.182620735353893"
      ]
     },
     "execution_count": 324,
     "metadata": {},
     "output_type": "execute_result"
    }
   ],
   "source": [
    "annual_ret/stds"
   ]
  },
  {
   "cell_type": "code",
   "execution_count": 328,
   "metadata": {},
   "outputs": [
    {
     "data": {
      "text/plain": [
       "0.605072463768116"
      ]
     },
     "execution_count": 328,
     "metadata": {},
     "output_type": "execute_result"
    }
   ],
   "source": [
    "y_pred_in=clf.predict(x_train)\n",
    "accuracy_score(flatten(y_pred_in),flatten(y_train))"
   ]
  },
  {
   "cell_type": "markdown",
   "metadata": {},
   "source": [
    "# Experiment comparing in-sample verus out of sample IR\n",
    "First experiment is just to look at different slicing of the data using the same hyper parameters"
   ]
  },
  {
   "cell_type": "code",
   "execution_count": 353,
   "metadata": {},
   "outputs": [],
   "source": [
    "res=[]\n",
    "for i in range(0,1000):\n",
    "    x_train, x_test, y_train, y_test = train_test_split(x, y, test_size = 0.25)\n",
    "    y_train_flat= flatten(y_train)\n",
    "    y_test_flat = flatten(y_test)\n",
    "    sc = StandardScaler()\n",
    "    x_train = sc.fit_transform(x_train)\n",
    "    x_test = sc.transform(x_test)\n",
    "    d_train = lgb.Dataset(x_train, label=y_train_flat)\n",
    "    clf = lgb.train(params, d_train, 100)\n",
    "\n",
    "    # Out of sample IR calculation\n",
    "    y_pred=clf.predict(x_test)\n",
    "    y_pred_bar=[]\n",
    "    for i in range(0,y_pred.size):\n",
    "        if y_pred[i]>=.6:       # setting threshold to .5\n",
    "           y_pred_bar.append(1)\n",
    "        else:  \n",
    "           y_pred_bar.append(0)\n",
    "    y_pred_bar=np.array(y_pred_bar)\n",
    "    IR=calc_IR(y_pred_bar,y_test)\n",
    "\n",
    "    # In sample \n",
    "    y_pred_in=clf.predict(x_train)\n",
    "    in_sample=accuracy_score(flatten(y_pred_in),flatten(y_train))\n",
    "    res.append([IR,in_sample])\n",
    "final_res=pd.DataFrame(res,columns=['IR','In Sample'])"
   ]
  },
  {
   "cell_type": "code",
   "execution_count": 378,
   "metadata": {},
   "outputs": [
    {
     "data": {
      "text/plain": [
       "<matplotlib.axes._subplots.AxesSubplot at 0x125a55240>"
      ]
     },
     "execution_count": 378,
     "metadata": {},
     "output_type": "execute_result"
    },
    {
     "data": {
      "image/png": "[encoded data removed]",
      "text/plain": [
       "<Figure size 432x288 with 1 Axes>"
      ]
     },
     "metadata": {
      "needs_background": "light"
     },
     "output_type": "display_data"
    }
   ],
   "source": [
    "sns.scatterplot(y='IR',x='In Sample',data=final_res)"
   ]
  },
  {
   "cell_type": "code",
   "execution_count": null,
   "metadata": {},
   "outputs": [],
   "source": []
  },
  {
   "cell_type": "code",
   "execution_count": 381,
   "metadata": {},
   "outputs": [],
   "source": [
    "res=[]\n",
    "for i in range(0,2000):\n",
    "    x_train, x_test, y_train, y_test = train_test_split(x, y, test_size = 0.25)\n",
    "    y_train_flat= flatten(y_train)\n",
    "    y_test_flat = flatten(y_test)\n",
    "    sc = StandardScaler()\n",
    "    x_train = sc.fit_transform(x_train)\n",
    "    x_test = sc.transform(x_test)\n",
    "    d_train = lgb.Dataset(x_train, label=y_train_flat)\n",
    "    params = {}\n",
    "    params['learning_rate'] = np.random.random()/7\n",
    "    params['boosting_type'] = 'gbdt'\n",
    "    params['objective'] = 'binary'\n",
    "    params['metric'] = 'binary_logloss'\n",
    "    params['sub_feature'] = 0.5\n",
    "    params['num_leaves'] = np.random.randint(5,30)\n",
    "    params['min_data'] = 50\n",
    "    params['max_depth'] = np.random.randint(5,10)\n",
    "    clf = lgb.train(params, d_train, 100)\n",
    "\n",
    "    # Out of sample IR calculation\n",
    "    y_pred=clf.predict(x_test)\n",
    "    y_pred_bar=[]\n",
    "    for i in range(0,y_pred.size):\n",
    "        if y_pred[i]>=.6:       # setting threshold to .5\n",
    "           y_pred_bar.append(1)\n",
    "        else:  \n",
    "           y_pred_bar.append(0)\n",
    "    y_pred_bar=np.array(y_pred_bar)\n",
    "    IR=calc_IR(y_pred_bar,y_test)\n",
    "\n",
    "    # In sample \n",
    "    y_pred_in=clf.predict(x_train)\n",
    "    in_sample=accuracy_score(flatten(y_pred_in),flatten(y_train))\n",
    "    res.append([IR,in_sample])\n",
    "final_res_hp=pd.DataFrame(res,columns=['IR','In Sample'])"
   ]
  },
  {
   "cell_type": "code",
   "execution_count": 382,
   "metadata": {},
   "outputs": [
    {
     "data": {
      "text/plain": [
       "<matplotlib.axes._subplots.AxesSubplot at 0x128c31550>"
      ]
     },
     "execution_count": 382,
     "metadata": {},
     "output_type": "execute_result"
    },
    {
     "data": {
      "image/png": "[encoded data removed]",
      "text/plain": [
       "<Figure size 432x288 with 1 Axes>"
      ]
     },
     "metadata": {
      "needs_background": "light"
     },
     "output_type": "display_data"
    }
   ],
   "source": [
    "sns.scatterplot(y='IR',x='In Sample',data=final_res_hp)"
   ]
  },
  {
   "cell_type": "markdown",
   "metadata": {},
   "source": [
    "# Additional futures market"
   ]
  },
  {
   "cell_type": "code",
   "execution_count": 385,
   "metadata": {},
   "outputs": [],
   "source": [
    "mkts={'SP 500':'CHRIS/CME_SP1',\n",
    "      #'US 10Y':'CHRIS/CME_TY1',\n",
    "      'Crude Oil':'CHRIS/CME_CL1',\n",
    "      'Dollar Index':'CHRIS/ICE_DX1',\n",
    "      'TED Spread':'FRED/TEDRATE',\n",
    "      'Wheat':'CHRIS/CME_W1',\n",
    "      'Euro':'CHRIS/CME_EC1',\n",
    "      'GBP':'CHRIS/CME_BP1',\n",
    "      'Gold':'CHRIS/CME_EC1'\n",
    "      }\n",
    "\n",
    "data_index=pd.DataFrame()\n",
    "for m in mkts.keys():\n",
    "\ttry:\n",
    "\t\tdata_index[m]=quandl.get(mkts[m],authtoken=token).Last\n",
    "\texcept:\n",
    "\t\ttry:\n",
    "\t\t\tdata_index[m]=quandl.get(mkts[m],authtoken=token).Settle\n",
    "\t\texcept:\n",
    "\t\t\ttry:\n",
    "\t\t\t\tdata_index[m]=quandl.get(mkts[m],authtoken=token).Value\n",
    "\t\t\texcept:\n",
    "\t\t\t\ttry:\n",
    "\t\t\t\t\tdata_index[m]=quandl.get(mkts[m],authtoken=token).value\n",
    "\t\t\t\texcept:\n",
    "\t\t\t\t\ttry:\n",
    "\t\t\t\t\t\tdata_index[m]=quandl.get(mkts[m],authtoken=token).Rate\n",
    "\t\t\t\t\texcept:\n",
    "\t\t\t\t\t\tprint(m)\n",
    "data_pct=data_index.pct_change()"
   ]
  },
  {
   "cell_type": "code",
   "execution_count": 439,
   "metadata": {},
   "outputs": [],
   "source": [
    "data_pct=data_index[['SP 500', 'Crude Oil', 'Dollar Index',  'Wheat',#'TED Spread',\n",
    "       'Euro', 'GBP', 'Gold']]['2007':].dropna().pct_change().dropna()"
   ]
  },
  {
   "cell_type": "code",
   "execution_count": 442,
   "metadata": {},
   "outputs": [],
   "source": [
    "data_pct['Y']=data_pct['SP 500'].shift(1)\n",
    "data_pct['Ybar']=data_pct.Y/data_pct.Y.abs()\n",
    "data_pct=data_pct.dropna()"
   ]
  },
  {
   "cell_type": "code",
   "execution_count": 443,
   "metadata": {},
   "outputs": [
    {
     "name": "stderr",
     "output_type": "stream",
     "text": [
      "/Users/mrefermat/anaconda3/lib/python3.7/site-packages/ipykernel_launcher.py:4: SettingWithCopyWarning: \n",
      "A value is trying to be set on a copy of a slice from a DataFrame.\n",
      "Try using .loc[row_indexer,col_indexer] = value instead\n",
      "\n",
      "See the caveats in the documentation: http://pandas.pydata.org/pandas-docs/stable/indexing.html#indexing-view-versus-copy\n",
      "  after removing the cwd from sys.path.\n"
     ]
    }
   ],
   "source": [
    "s=[]\n",
    "for i in data_pct.Y:\n",
    "    s.append(1 if i>0 else 0)\n",
    "data_pct['Y2']=pd.Series(s,index=data_pct.index)"
   ]
  },
  {
   "cell_type": "code",
   "execution_count": 457,
   "metadata": {},
   "outputs": [],
   "source": [
    "x=data_pct[['SP 500', 'Crude Oil', 'Dollar Index', 'Wheat', 'Euro', 'GBP', 'Gold']].values\n",
    "y=data_pct.Y.values\n",
    "sc = StandardScaler()\n",
    "x_train = sc.fit_transform(x_train)\n",
    "x_test = sc.transform(x_test)"
   ]
  },
  {
   "cell_type": "code",
   "execution_count": 471,
   "metadata": {},
   "outputs": [],
   "source": [
    "res=[]\n",
    "for i in range(0,200):\n",
    "    x_train, x_test, y_train, y_test = train_test_split(x, y, test_size = 0.25)\n",
    "    y_train_flat= flatten(y_train)\n",
    "    y_test_flat = flatten(y_test)\n",
    "    sc = StandardScaler()\n",
    "    x_train = sc.fit_transform(x_train)\n",
    "    x_test = sc.transform(x_test)\n",
    "    d_train = lgb.Dataset(x_train, label=y_train_flat)\n",
    "    params = {}\n",
    "    params['learning_rate'] = 0.003#np.random.random()/7\n",
    "    params['boosting_type'] = 'gbdt'\n",
    "    params['objective'] = 'binary'\n",
    "    params['metric'] = 'binary_logloss'\n",
    "    params['sub_feature'] = 0.5\n",
    "    params['num_leaves'] = 20#np.random.randint(5,30)\n",
    "    params['min_data'] = 50\n",
    "    params['max_depth'] = 20#np.random.randint(5,10)\n",
    "    clf = lgb.train(params, d_train, 100)\n",
    "\n",
    "    # Out of sample IR calculation\n",
    "    y_pred=clf.predict(x_test)\n",
    "    y_pred_bar=[]\n",
    "    for i in range(0,y_pred.size):\n",
    "        if y_pred[i]>=.54:       # setting threshold to .5\n",
    "           y_pred_bar.append(1)\n",
    "        else:  \n",
    "           y_pred_bar.append(0)\n",
    "    y_pred_bar=np.array(y_pred_bar)\n",
    "    IR=calc_IR(y_pred_bar,y_test,255)\n",
    "\n",
    "    # In sample \n",
    "    y_pred_in=clf.predict(x_train)\n",
    "    in_sample=accuracy_score(flatten(y_pred_in),flatten(y_train))\n",
    "    res.append([IR,in_sample])\n",
    "final_res_hp=pd.DataFrame(res,columns=['IR','In Sample'])"
   ]
  },
  {
   "cell_type": "code",
   "execution_count": 472,
   "metadata": {},
   "outputs": [
    {
     "data": {
      "text/plain": [
       "<matplotlib.axes._subplots.AxesSubplot at 0x12dad3860>"
      ]
     },
     "execution_count": 472,
     "metadata": {},
     "output_type": "execute_result"
    },
    {
     "data": {
      "image/png": "[encoded data removed]",
      "text/plain": [
       "<Figure size 432x288 with 1 Axes>"
      ]
     },
     "metadata": {
      "needs_background": "light"
     },
     "output_type": "display_data"
    }
   ],
   "source": [
    "sns.scatterplot(y='IR',x='In Sample',data=final_res_hp)"
   ]
  },
  {
   "cell_type": "code",
   "execution_count": 473,
   "metadata": {},
   "outputs": [
    {
     "data": {
      "text/plain": [
       "<matplotlib.axes._subplots.AxesSubplot at 0x12dba0208>"
      ]
     },
     "execution_count": 473,
     "metadata": {},
     "output_type": "execute_result"
    },
    {
     "data": {
      "image/png": "[encoded data removed]",
      "text/plain": [
       "<Figure size 432x288 with 1 Axes>"
      ]
     },
     "metadata": {
      "needs_background": "light"
     },
     "output_type": "display_data"
    }
   ],
   "source": [
    "pd.Series(y_pred).plot(kind='hist')"
   ]
  },
  {
   "cell_type": "code",
   "execution_count": null,
   "metadata": {},
   "outputs": [],
   "source": []
  }
 ],
 "metadata": {
  "kernelspec": {
   "display_name": "Python 3",
   "language": "python",
   "name": "python3"
  },
  "language_info": {
   "codemirror_mode": {
    "name": "ipython",
    "version": 3
   },
   "file_extension": ".py",
   "mimetype": "text/x-python",
   "name": "python",
   "nbconvert_exporter": "python",
   "pygments_lexer": "ipython3",
   "version": "3.7.3"
  }
 },
 "nbformat": 4,
 "nbformat_minor": 4
}
